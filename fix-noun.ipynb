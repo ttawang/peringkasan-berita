{
 "cells": [
  {
   "cell_type": "code",
   "execution_count": 1,
   "metadata": {},
   "outputs": [],
   "source": [
    "import pandas as pd\n",
    "import numpy as np\n",
    "from Sastrawi.Stemmer.StemmerFactory import StemmerFactory\n",
    "import re\n",
    "import nltk \n",
    "import string"
   ]
  },
  {
   "cell_type": "code",
   "execution_count": 2,
   "metadata": {},
   "outputs": [
    {
     "data": {
      "text/html": [
       "<div>\n",
       "<style scoped>\n",
       "    .dataframe tbody tr th:only-of-type {\n",
       "        vertical-align: middle;\n",
       "    }\n",
       "\n",
       "    .dataframe tbody tr th {\n",
       "        vertical-align: top;\n",
       "    }\n",
       "\n",
       "    .dataframe thead th {\n",
       "        text-align: right;\n",
       "    }\n",
       "</style>\n",
       "<table border=\"1\" class=\"dataframe\">\n",
       "  <thead>\n",
       "    <tr style=\"text-align: right;\">\n",
       "      <th></th>\n",
       "      <th>Data</th>\n",
       "    </tr>\n",
       "  </thead>\n",
       "  <tbody>\n",
       "    <tr>\n",
       "      <th>56</th>\n",
       "      <td>TRIBUNNEWS.COM, JAKARTA -Imam Besar Front Pemb...</td>\n",
       "    </tr>\n",
       "    <tr>\n",
       "      <th>15</th>\n",
       "      <td>Peningkatan jumlah kasus positif Covid-19 di J...</td>\n",
       "    </tr>\n",
       "    <tr>\n",
       "      <th>11</th>\n",
       "      <td>Pemerintah KotaYogyakartamengumpulkan tujuh di...</td>\n",
       "    </tr>\n",
       "  </tbody>\n",
       "</table>\n",
       "</div>"
      ],
      "text/plain": [
       "                                                 Data\n",
       "56  TRIBUNNEWS.COM, JAKARTA -Imam Besar Front Pemb...\n",
       "15  Peningkatan jumlah kasus positif Covid-19 di J...\n",
       "11  Pemerintah KotaYogyakartamengumpulkan tujuh di..."
      ]
     },
     "execution_count": 2,
     "metadata": {},
     "output_type": "execute_result"
    }
   ],
   "source": [
    "data = pd.read_csv(\"data2.csv\")\n",
    "data.sample(3)"
   ]
  },
  {
   "cell_type": "code",
   "execution_count": 3,
   "metadata": {},
   "outputs": [
    {
     "data": {
      "text/plain": [
       "['Juru Bicara Satuan Tugas Penanganan Covid-19 Wiku Adisasmito mengingatkan masyarakat tak mendiskriminasi pasien Covid-19 yang ada di lingkungan mereka',\n",
       " 'Menurut Wiku, terinfeksi virus corona bukanlah sebuah aib',\n",
       " ' Dukungan kepada pasien justru sangat dibutuhkan untuk membantu proses penyembuhan',\n",
       " '\"Jangan ada sikap diskriminatif kepada keluarga atau kerabat yang didapati positif Covid-19, positif Covid bukanlah aib,\" kata Wiku dalam konferensi pers yang ditayangkan YouTube Sekretariat Presiden, Selasa (12AQzAZ1/12/2020)',\n",
       " '\"Sebaliknya, dukungan kepada mereka yang menderita Covid-19 dapat membantu proses penyembuhan mereka,\" tuturnya',\n",
       " 'Baca juga:Sepanjang Rumah Sakit Declare, Kemenkes: Biaya Perawatan Pasien Covid-19 Ditanggung NegaraDalam kesempatan yang sama, Wiku juga meminta masyarakat mendukung upayatracingyang tengah digenjot pemerintah',\n",
       " 'Tracingmerupakan penelusuran kontak terdekat pasien Covid-19',\n",
       " 'Upayatracing, kata Wiku, sama pentingnya dengantestingdantreatment',\n",
       " ' Melaluitracing, tenaga kesehatan akan melakukan pelacakan sehingga kontak terdekat pasien Covid-19 dapat ditemukan dan segera dilakukantesting',\n",
       " 'Jika hasilswab testmenunjukkan seseorang positif Covid-19, maka orang tersebut akan mendapattreatmentatau perawatan sehingga dapat segera sembuh',\n",
       " 'Wiku menyebut, semakin cepattracingdilakukan, kesempatan untuk sembuh dari infeksi virus corona juga akan semakin besar',\n",
       " 'Baca juga:Pemkot Bekasi: Mayoritas Pasien Covid-19 yang Meninggal Berusia di Atas 50 Tahun dan Punya Komorbid\"Oleh karena itu, saya meminta siapapun Anda, baik masyarakat biasa maupun tokoh masyarakat, tokoh agama, tokoh daerah, pejabat, agar sepenuhnya mendukung upaya tracing yang dilakukan oleh tenaga kesehatan,\" ujar Wiku',\n",
       " '\"Tunjukkan sikap kooperatif dan terbuka saat wawancara dilakukan, sehingga petugas dapat memetakan kontak terdekat dengan baik,\" tuturnya',\n",
       " 'Wiku juga meminta masyarakat untuk tak menghalang-halangi upaya petugas dalam melakukan tes Covid-19',\n",
       " ' Ia mengingatkan, ada sanksi bagi mereka yang menghalangi petugas',\n",
       " 'Menurut Wiku, kerja sama dari seluruh pihak menjadi kunci dalam mengendalikan pandemi',\n",
       " '\"Ingat, upaya penanganan Covid-19 berjalan dengan baik apabila seluruh pihak dapat saling mendukung,\" katanya',\n",
       " '']"
      ]
     },
     "execution_count": 3,
     "metadata": {},
     "output_type": "execute_result"
    }
   ],
   "source": [
    "sendec = [0 for x in range(100)]\n",
    "arr = 0\n",
    "for i in data[\"Data\"]:\n",
    "    sendec[arr] = i.split(\".\")\n",
    "    arr = arr+1\n",
    "sendec[1]"
   ]
  },
  {
   "cell_type": "code",
   "execution_count": 4,
   "metadata": {},
   "outputs": [
    {
     "data": {
      "text/plain": [
       "['ketua bidang data teknologi informasi satu tugas penanganancovid 19dewi nur aisyahmengatakan angkapositivity ratecovid 19 indonesia alami turun oktober november 2020',\n",
       " 'data satgas positivity ratecovid 19 indonesia capai 16 69 persen september',\n",
       " 'turun angka 14 26 persen oktober november turun 13 55 persen dewi konferensi pers daring rabu 2 12 2020',\n",
       " 'baca rizieq shihab maaf janji kerumun pandemi covid 19positivity rateadalah banding positif covid 19 sampel periksa metode swab test',\n",
       " 'kendati alami turun tingkatpositivity ratecovid 19 tanah air bilang banding standar organisasi sehat dunia who',\n",
       " 'rekomendasi who pandemi covid 19 kendali jikapositivity ratemaksimal 5 persen',\n",
       " 'tren turun oktober november standar who',\n",
       " 'standar who kendali target 5 persen orang periksa dewi',\n",
       " 'dewi periksa orang indonesia capai target tetap who',\n",
       " 'baca luhut insya allah pasok vaksin covid 19 desembertarget periksa who 1 juta duduk periksa 1',\n",
       " '000 orang pekan',\n",
       " 'asumsi duduk 267 juta jiwa indonesia mesti periksa 267',\n",
       " '000 orang minggu',\n",
       " 'november dewi sebut periksa orang indonesia 90 persen target who',\n",
       " 'pekan november kemarin tembus angka 90 persen target who',\n",
       " 'lihat progress jalan',\n",
       " '']"
      ]
     },
     "execution_count": 4,
     "metadata": {},
     "output_type": "execute_result"
    }
   ],
   "source": [
    "sendecprepos = [0 for x in range(100)]\n",
    "for i in range(len(sendec)):\n",
    "    gabung = []\n",
    "    for j in sendec[i]:\n",
    "        #print(j)\n",
    "        #Huruf Kecil + Tokenize\n",
    "        lowertext = j.lower()\n",
    "        j = re.sub(\"[^a-zA-Z0-9_]\", \" \",str(lowertext))\n",
    "        words = j.split()\n",
    "        \n",
    "        #Stopwords removal\n",
    "        stop_words = [line.rstrip('\\n') for line in open('stopwordlist.txt')]\n",
    "        filtered_text = [word for word in words if word not in stop_words]\n",
    "        \n",
    "        #StemmingSastrawi\n",
    "        factory = StemmerFactory()\n",
    "        stemmer = factory.create_stemmer()\n",
    "        stemming = []\n",
    "        for a in filtered_text:\n",
    "            b   = stemmer.stem(a)\n",
    "            stemming.append(b)\n",
    "        a = \" \".join(w for w in stemming)\n",
    "        gabung.append(a)\n",
    "    sendecprepos[i] = gabung\n",
    "sendecprepos[0]"
   ]
  },
  {
   "cell_type": "code",
   "execution_count": 5,
   "metadata": {},
   "outputs": [],
   "source": [
    "np.save(\"sendecprepos\", sendecprepos)"
   ]
  },
  {
   "cell_type": "code",
   "execution_count": 4,
   "metadata": {},
   "outputs": [],
   "source": [
    "sendecprepos = np.load('sendecprepos.npy', allow_pickle=True)"
   ]
  },
  {
   "cell_type": "code",
   "execution_count": 5,
   "metadata": {},
   "outputs": [
    {
     "data": {
      "text/html": [
       "<div>\n",
       "<style scoped>\n",
       "    .dataframe tbody tr th:only-of-type {\n",
       "        vertical-align: middle;\n",
       "    }\n",
       "\n",
       "    .dataframe tbody tr th {\n",
       "        vertical-align: top;\n",
       "    }\n",
       "\n",
       "    .dataframe thead th {\n",
       "        text-align: right;\n",
       "    }\n",
       "</style>\n",
       "<table border=\"1\" class=\"dataframe\">\n",
       "  <thead>\n",
       "    <tr style=\"text-align: right;\">\n",
       "      <th></th>\n",
       "      <th>lema</th>\n",
       "      <th>nilai</th>\n",
       "      <th>nilai1</th>\n",
       "    </tr>\n",
       "  </thead>\n",
       "  <tbody>\n",
       "    <tr>\n",
       "      <th>0</th>\n",
       "      <td>A</td>\n",
       "      <td>huruf pertama abjad Indonesia</td>\n",
       "      <td>nama huruf a</td>\n",
       "    </tr>\n",
       "    <tr>\n",
       "      <th>1</th>\n",
       "      <td>ab</td>\n",
       "      <td>wadah kecil dari timah untuk candu</td>\n",
       "      <td>hap</td>\n",
       "    </tr>\n",
       "    <tr>\n",
       "      <th>2</th>\n",
       "      <td>abad</td>\n",
       "      <td>masa seratus tahun</td>\n",
       "      <td>jangka waktu yang lamanya seratus tahun</td>\n",
       "    </tr>\n",
       "    <tr>\n",
       "      <th>3</th>\n",
       "      <td>abah</td>\n",
       "      <td>arah</td>\n",
       "      <td>tuju</td>\n",
       "    </tr>\n",
       "    <tr>\n",
       "      <th>4</th>\n",
       "      <td>abah-abah</td>\n",
       "      <td>alat</td>\n",
       "      <td>perkakas</td>\n",
       "    </tr>\n",
       "    <tr>\n",
       "      <th>...</th>\n",
       "      <td>...</td>\n",
       "      <td>...</td>\n",
       "      <td>...</td>\n",
       "    </tr>\n",
       "    <tr>\n",
       "      <th>9000</th>\n",
       "      <td>zirkonium</td>\n",
       "      <td>(Kim) logam tanah langka berwarna putih perak ...</td>\n",
       "      <td>unsur dengan nomor atom 40 lambang Zr dan bobo...</td>\n",
       "    </tr>\n",
       "    <tr>\n",
       "      <th>9001</th>\n",
       "      <td>zona</td>\n",
       "      <td>salah satu dari lima bagian besar permukaan bu...</td>\n",
       "      <td>jalur iklim</td>\n",
       "    </tr>\n",
       "    <tr>\n",
       "      <th>9002</th>\n",
       "      <td>zuhur</td>\n",
       "      <td>waktu tengah hari</td>\n",
       "      <td>waktu salat wajib setelah matahari tergelincir...</td>\n",
       "    </tr>\n",
       "    <tr>\n",
       "      <th>9003</th>\n",
       "      <td>zuriah</td>\n",
       "      <td>(Ar) keturunan</td>\n",
       "      <td>anak cucu</td>\n",
       "    </tr>\n",
       "    <tr>\n",
       "      <th>9004</th>\n",
       "      <td>zus</td>\n",
       "      <td>(cak) kata sapaan untuk saudara perempuan</td>\n",
       "      <td>panggilan akrab untuk wanita</td>\n",
       "    </tr>\n",
       "  </tbody>\n",
       "</table>\n",
       "<p>9005 rows × 3 columns</p>\n",
       "</div>"
      ],
      "text/plain": [
       "           lema                                              nilai  \\\n",
       "0             A                      huruf pertama abjad Indonesia   \n",
       "1            ab                 wadah kecil dari timah untuk candu   \n",
       "2          abad                                 masa seratus tahun   \n",
       "3          abah                                               arah   \n",
       "4     abah-abah                                               alat   \n",
       "...         ...                                                ...   \n",
       "9000  zirkonium  (Kim) logam tanah langka berwarna putih perak ...   \n",
       "9001       zona  salah satu dari lima bagian besar permukaan bu...   \n",
       "9002      zuhur                                  waktu tengah hari   \n",
       "9003     zuriah                                     (Ar) keturunan   \n",
       "9004        zus          (cak) kata sapaan untuk saudara perempuan   \n",
       "\n",
       "                                                 nilai1  \n",
       "0                                          nama huruf a  \n",
       "1                                                   hap  \n",
       "2               jangka waktu yang lamanya seratus tahun  \n",
       "3                                                  tuju  \n",
       "4                                              perkakas  \n",
       "...                                                 ...  \n",
       "9000  unsur dengan nomor atom 40 lambang Zr dan bobo...  \n",
       "9001                                        jalur iklim  \n",
       "9002  waktu salat wajib setelah matahari tergelincir...  \n",
       "9003                                          anak cucu  \n",
       "9004                       panggilan akrab untuk wanita  \n",
       "\n",
       "[9005 rows x 3 columns]"
      ]
     },
     "execution_count": 5,
     "metadata": {},
     "output_type": "execute_result"
    }
   ],
   "source": [
    "noun = pd.read_csv(\"noun.csv\")\n",
    "noun"
   ]
  },
  {
   "cell_type": "code",
   "execution_count": 6,
   "metadata": {},
   "outputs": [
    {
     "data": {
      "text/plain": [
       "['ketua bidang data teknologi informasi tugas',\n",
       " 'data',\n",
       " 'angka dewi pers',\n",
       " 'maaf janji banding sampel metode',\n",
       " 'tanah air banding standar organisasi dunia',\n",
       " 'rekomendasi',\n",
       " 'standar',\n",
       " 'standar orang dewi',\n",
       " 'dewi orang',\n",
       " 'pasok',\n",
       " 'orang pekan',\n",
       " 'asumsi jiwa',\n",
       " 'orang',\n",
       " 'dewi orang',\n",
       " 'pekan angka',\n",
       " 'jalan',\n",
       " '']"
      ]
     },
     "execution_count": 6,
     "metadata": {},
     "output_type": "execute_result"
    }
   ],
   "source": [
    "nounfilter = [0 for x in range(100)]\n",
    "for i in range(len(sendecprepos)):\n",
    "    gabung = []\n",
    "    for j in sendecprepos[i]:\n",
    "        words = j.split()\n",
    "        ceknoun = [line.rstrip('\\n') for line in noun[\"lema\"]]\n",
    "        filtered_text = [word for word in words if word in ceknoun]\n",
    "        a = \" \".join(w for w in filtered_text)\n",
    "        gabung.append(a)\n",
    "    nounfilter[i] = gabung\n",
    "nounfilter[0]"
   ]
  },
  {
   "cell_type": "code",
   "execution_count": 7,
   "metadata": {},
   "outputs": [
    {
     "data": {
      "text/plain": [
       "['air',\n",
       " 'angka',\n",
       " 'asumsi',\n",
       " 'banding',\n",
       " 'bidang',\n",
       " 'data',\n",
       " 'dewi',\n",
       " 'dunia',\n",
       " 'informasi',\n",
       " 'jalan',\n",
       " 'janji',\n",
       " 'jiwa',\n",
       " 'ketua',\n",
       " 'maaf',\n",
       " 'metode',\n",
       " 'orang',\n",
       " 'organisasi',\n",
       " 'pasok',\n",
       " 'pekan',\n",
       " 'pers',\n",
       " 'rekomendasi',\n",
       " 'sampel',\n",
       " 'standar',\n",
       " 'tanah',\n",
       " 'teknologi',\n",
       " 'tugas']"
      ]
     },
     "execution_count": 7,
     "metadata": {},
     "output_type": "execute_result"
    }
   ],
   "source": [
    "kal = [0 for x in range(len(nounfilter))]#kalimat berita keseluruhan\n",
    "kalnodup = [0 for x in range(len(nounfilter))]#kalimat berita non duplicate\n",
    "\n",
    "for i in range(len(nounfilter)):\n",
    "    kal[i] = \" \".join(nounfilter[i])\n",
    "    l = kal[i].split()\n",
    "    l.sort()\n",
    "    k = []\n",
    "    \n",
    "    for j in l:\n",
    "        #print(j)\n",
    "        if (kal[i].count(j)>1 and (j not in k)or kal[i].count(j)==1): \n",
    "            k.append(j)\n",
    "        kalnodup[i] = k\n",
    "kalnodup[0]"
   ]
  },
  {
   "cell_type": "code",
   "execution_count": 8,
   "metadata": {},
   "outputs": [
    {
     "name": "stdout",
     "output_type": "stream",
     "text": [
      "orang\n"
     ]
    }
   ],
   "source": [
    "ambigu = [0 for x in range(len(kalnodup))]\n",
    "#ambigu = [[0 for x in range(len(kalnodup))]for xx in range(2)]\n",
    "#cobas = [0 for x in range(len(kalnodup))]\n",
    "\n",
    "for i in range(len(kalnodup)):\n",
    "    k = [] #array kalimat ambigu\n",
    "    l = [] #array total kalimat ambigu\n",
    "    \n",
    "    for j in kalnodup[i]:\n",
    "\n",
    "        m = kal[i].count(j)\n",
    "            \n",
    "        if (m>1 and j!=\"as\"):\n",
    "            k.append(j)\n",
    "            l.append(m)\n",
    "       \n",
    "    tt = max(l) #nilai ambigu tertinggi\n",
    "    uu = l.index(tt) #index nilai ambigu tertinggi\n",
    "    #ambigu[i][0] = k[uu]\n",
    "    #ambigu[i][1] = l[uu]\n",
    "    ambigu[i] = k[uu]\n",
    "print(ambigu[0])"
   ]
  },
  {
   "cell_type": "code",
   "execution_count": 9,
   "metadata": {},
   "outputs": [
    {
     "name": "stdout",
     "output_type": "stream",
     "text": [
      "[0, 14, 15, 0, 0, 11, 13, 7, 0, 6, 28, 33, 0, 7, 1, 32, 41, 1, 1, 2, 20, 0, 7, 3, 0, 0, 44, 13, 12, 22, 24, 12, 0, 0, 0, 37, 11, 14, 2, 12, 4, 1, 30, 6, 12, 26, 0, 9, 34, 0, 37, 17, 30, 26, 0, 0, 33, 17, 11, 5, 0, 1, 5, 28, 2, 0, 8, 54, 16, 0, 5, 0, 6, 21, 38, 0, 23, 55, 5, 1, 10, 10, 0, 1, 1, 3, 6, 0, 8, 20, 18, 0, 0, 0, 0, 1, 0, 4, 20, 0]\n",
      "[3, 2, 0, 0, 3, 0, 0, 0, 7, 0, 35, 6, 5, 7, 4, 13, 0, 1, 2, 0, 0, 0, 1, 6, 0, 0, 22, 5, 5, 35, 5, 2, 6, 0, 0, 12, 5, 5, 0, 0, 1, 0, 0, 0, 3, 4, 0, 11, 9, 0, 16, 8, 8, 0, 3, 63, 0, 6, 3, 0, 0, 0, 4, 0, 4, 91, 0, 0, 0, 7, 0, 0, 0, 0, 30, 0, 18, 25, 7, 0, 7, 0, 0, 0, 1, 2, 0, 0, 0, 10, 13, 0, 27, 0, 0, 1, 7, 0, 0, 0]\n",
      "[5116, 8622, 2620, 1424, 5116, 8154, 7198, 2620, 5116, 8578, 8886, 7177, 5116, 6797, 5116, 1424, 6395, 3355, 1835, 306, 2348, 1954, 7959, 3580, 3580, 3580, 2092, 2092, 2092, 4984, 8448, 8725, 1622, 7177, 7177, 1603, 4984, 2092, 3999, 2620, 5200, 4728, 36, 4728, 4024, 2092, 2092, 4024, 4654, 2275, 2657, 8448, 7443, 8684, 5116, 1663, 36, 4024, 3003, 306, 2510, 8154, 4833, 618, 4984, 1663, 4728, 1363, 8962, 6951, 5330, 8154, 4652, 1071, 2657, 4552, 1424, 8448, 2118, 249, 3946, 2620, 579, 4728, 5116, 8448, 3367, 3367, 1563, 8448, 1625, 1625, 1663, 579, 579, 7906, 1540, 2291, 618, 5329]\n",
      "negara\n"
     ]
    }
   ],
   "source": [
    "pop = []\n",
    "pop1 = []\n",
    "ambdex = [] #index kata ambigu\n",
    "for i in range(len(nounfilter)):\n",
    "    totalnilai = 0\n",
    "    totalnilai1 = 0\n",
    "    for j in range(len(nounfilter[i])):\n",
    "        if (nounfilter[i][j].count(ambigu[i])==1):\n",
    "            #print(nounfilter[i][j])\n",
    "            #totalnilai = 0\n",
    "            #totalnilai1 = 0\n",
    "            for k in set(nounfilter[i][j].split()):\n",
    "                if k!=ambigu[i]:\n",
    "                    cek1 = ceknoun.index(ambigu[i])\n",
    "                    cek2 = ceknoun.index(k)\n",
    "                    #print(cek2)\n",
    "                    #print(k)\n",
    "                    \n",
    "                    for l in set(noun[\"nilai\"][cek1].split()):\n",
    "                        totalnilai = totalnilai + noun[\"nilai\"][cek2].count(l)\n",
    "                    for m in set(noun[\"nilai1\"][cek1].split()):\n",
    "                        totalnilai1 = totalnilai1 + noun[\"nilai1\"][cek2].count(m)\n",
    "    pop.append(totalnilai)\n",
    "    pop1.append(totalnilai1)\n",
    "    ambdex.append(cek1)\n",
    "            #pop.append(totalnilai)\n",
    "            #pop1.append(totalnilai1)\n",
    "print(pop)\n",
    "print(pop1)\n",
    "print(ambdex)\n",
    "print(noun[\"lema\"][4984])"
   ]
  },
  {
   "cell_type": "code",
   "execution_count": 10,
   "metadata": {},
   "outputs": [
    {
     "name": "stdout",
     "output_type": "stream",
     "text": [
      "6\n",
      "6\n",
      "0\n",
      "[1.1111111111111112, 1.0, 1.0, 1.0555555555555556, 1.0555555555555556, 1.0555555555555556, 1.0, 1.0, 1.0, 1.1111111111111112, 1.0, 1.1111111111111112, 1.0, 1.0, 1.0555555555555556, 1.1111111111111112, 1.0, 1.0]\n"
     ]
    }
   ],
   "source": [
    "senex = [0 for x in range(100)]\n",
    "for i in range(len(sendec)):\n",
    "    temp = []\n",
    "    for j in range(len(sendec[i])):\n",
    "        lgth = 0 #length\n",
    "        dst = 0 #nilai destinct member\n",
    "        cek = 0\n",
    "        #lexi = 0\n",
    "        for k in set(sendec[i][j].split()):\n",
    "            #print(k)\n",
    "            lgth = lgth + 1\n",
    "            if pop>pop1:\n",
    "                cek = cek + noun[\"nilai\"][ambdex[i]].count(k)\n",
    "            else:\n",
    "                cek = cek + noun[\"nilai1\"][ambdex[i]].count(k)\n",
    "        dst = lgth - cek\n",
    "        lexi = (1-(dst/lgth))*lgth if lgth != 0 else 0\n",
    "        senextemp = 1+(lexi/len(sendec[i])) #sentence extrator\n",
    "        temp.append(senextemp)\n",
    "    senex[i] = temp\n",
    "    \n",
    "print(lgth)\n",
    "print(dst)\n",
    "print(cek)\n",
    "print(senex[1])"
   ]
  },
  {
   "cell_type": "code",
   "execution_count": 11,
   "metadata": {},
   "outputs": [
    {
     "data": {
      "text/plain": [
       "['Selain itu, Dewi mengatakan saat ini jumlah pemeriksaan orang di Indonesia sudah hampir mencapai target yang ditetapkan WHO',\n",
       " 'Per November ini, Dewi menyebut jumlah pemeriksaan orang di Indonesia sudah 90 persen dari target WHO',\n",
       " 'Menurut rekomendasi WHO, pandemi Covid-19 bisa dikatakan terkendali jikapositivity ratemaksimal 5 persen',\n",
       " 'Menurut data Satgas,positivity rateCovid-19 di Indonesia sempat mencapai 16,69 persen pada September',\n",
       " 'Ketua Bidang Data dan Teknologi Informasi Satuan Tugas PenangananCovid-19Dewi Nur Aisyahmengatakan angkapositivity rateCovid-19 di Indonesia mengalami penurunan sejak Oktober hingga November 2020',\n",
       " 'Kendati mengalami penurunan, dia mengatakan tingkatpositivity rateCovid-19 di Tanah Air masih terbilang tinggi jika dibandingkan dengan standar Organisasi Kesehatan Dunia (WHO)',\n",
       " 'Baca juga:Rizieq Shihab Minta Maaf, Janji Tidak Buat Kerumunan Lagi Selama Pandemi Covid-19Positivity rateadalah perbandingan antara kasus positif Covid-19 dan jumlah sampel yang diperiksa dengan dengan metode swab test',\n",
       " 'Baca juga:Luhut: Insya Allah Pasokan Vaksin Covid-19 Siap DesemberTarget pemeriksaan WHO adalah tiap 1 juta penduduk harus diperiksa 1',\n",
       " '000 orang per pekan',\n",
       " '000 orang per minggu',\n",
       " '\"Pekan terakhir November kemarin kita sudah mampu menembus angka 90 persen dari target WHO',\n",
       " '\"Meski sudah terjadi tren menurun di Oktober dan November, tapi tetap masih di atas standar WHO',\n",
       " '\"Kemudian turun di angka 14, 26 persen pada Oktober, dan November turun 13,55 persen,\" ujar Dewi dalam konferensi pers daring, Rabu (2/12/2020)',\n",
       " ' Standar WHO kalau kita bisa mengendalikan, targetnya adalah 5 persen dari seluruh orang diperiksa,\" kata Dewi',\n",
       " ' Maka, dengan asumsi jumlah penduduk 267 juta jiwa, Indonesia semestinya harus melakukan pemeriksaan terhadap 267',\n",
       " ' Jadi kalau kita lihat progress berjalan cukup baik,\" tuturnya',\n",
       " '']"
      ]
     },
     "execution_count": 11,
     "metadata": {},
     "output_type": "execute_result"
    }
   ],
   "source": [
    "hasil = []\n",
    "for i in range(len(sendec)):\n",
    "    for j in range(len(sendec[i])):\n",
    "        a = sendec[i]\n",
    "        b = senex[i]\n",
    "        zipped_lists = zip(a, b)\n",
    "        sorted_pairs = sorted(zipped_lists,reverse=True)\n",
    "\n",
    "        tuples = zip(*sorted_pairs)\n",
    "        a, b = [ list(tuple) for tuple in  tuples]\n",
    "    hasil.append(a)\n",
    "hasil[0]"
   ]
  },
  {
   "cell_type": "code",
   "execution_count": 12,
   "metadata": {},
   "outputs": [
    {
     "data": {
      "text/plain": [
       "'Selain itu, Dewi mengatakan saat ini jumlah pemeriksaan orang di Indonesia sudah hampir mencapai target yang ditetapkan WHO Per November ini, Dewi menyebut jumlah pemeriksaan orang di Indonesia sudah 90 persen dari target WHO Menurut rekomendasi WHO, pandemi Covid-19 bisa dikatakan terkendali jikapositivity ratemaksimal 5 persen Menurut data Satgas,positivity rateCovid-19 di Indonesia sempat mencapai 16,69 persen pada September Ketua Bidang Data dan Teknologi Informasi Satuan Tugas PenangananCovid-19Dewi Nur Aisyahmengatakan angkapositivity rateCovid-19 di Indonesia mengalami penurunan sejak Oktober hingga November 2020'"
      ]
     },
     "execution_count": 12,
     "metadata": {},
     "output_type": "execute_result"
    }
   ],
   "source": [
    "rangkuman1 = []\n",
    "for i in range(len(hasil)):\n",
    "    persen = round(len(hasil[i])*(30/100))\n",
    "    #print((persen))\n",
    "    temp = []\n",
    "    for j in range(persen):\n",
    "        temp.append(hasil[i][j])\n",
    "    \n",
    "    x = \" \".join(w for w in temp)\n",
    "    rangkuman1.append(x)\n",
    "rangkuman1[0]"
   ]
  },
  {
   "cell_type": "code",
   "execution_count": 13,
   "metadata": {},
   "outputs": [
    {
     "data": {
      "text/plain": [
       "'Selain itu, Dewi mengatakan saat ini jumlah pemeriksaan orang di Indonesia sudah hampir mencapai target yang ditetapkan WHO Per November ini, Dewi menyebut jumlah pemeriksaan orang di Indonesia sudah 90 persen dari target WHO Menurut rekomendasi WHO, pandemi Covid-19 bisa dikatakan terkendali jikapositivity ratemaksimal 5 persen Menurut data Satgas,positivity rateCovid-19 di Indonesia sempat mencapai 16,69 persen pada September'"
      ]
     },
     "execution_count": 13,
     "metadata": {},
     "output_type": "execute_result"
    }
   ],
   "source": [
    "rangkuman2 = []\n",
    "for i in range(len(hasil)):\n",
    "    persen = round(len(hasil[i])*(25/100))\n",
    "    #print((persen))\n",
    "    temp = []\n",
    "    for j in range(persen):\n",
    "        temp.append(hasil[i][j])\n",
    "    \n",
    "    x = \" \".join(w for w in temp)\n",
    "    rangkuman2.append(x)\n",
    "rangkuman2[0]"
   ]
  },
  {
   "cell_type": "code",
   "execution_count": 14,
   "metadata": {},
   "outputs": [
    {
     "data": {
      "text/plain": [
       "'Selain itu, Dewi mengatakan saat ini jumlah pemeriksaan orang di Indonesia sudah hampir mencapai target yang ditetapkan WHO Per November ini, Dewi menyebut jumlah pemeriksaan orang di Indonesia sudah 90 persen dari target WHO Menurut rekomendasi WHO, pandemi Covid-19 bisa dikatakan terkendali jikapositivity ratemaksimal 5 persen'"
      ]
     },
     "execution_count": 14,
     "metadata": {},
     "output_type": "execute_result"
    }
   ],
   "source": [
    "rangkuman3 = []\n",
    "for i in range(len(hasil)):\n",
    "    persen = round(len(hasil[i])*(20/100))\n",
    "    #print((persen))\n",
    "    temp = []\n",
    "    for j in range(persen):\n",
    "        temp.append(hasil[i][j])\n",
    "    \n",
    "    x = \" \".join(w for w in temp)\n",
    "    rangkuman3.append(x)\n",
    "rangkuman3[0]"
   ]
  },
  {
   "cell_type": "code",
   "execution_count": 23,
   "metadata": {},
   "outputs": [
    {
     "data": {
      "text/plain": [
       "'Selain itu, Dewi mengatakan saat ini jumlah pemeriksaan orang di Indonesia sudah hampir mencapai target yang ditetapkan WHO Per November ini, Dewi menyebut jumlah pemeriksaan orang di Indonesia sudah 90 persen dari target WHO Menurut rekomendasi WHO, pandemi Covid-19 bisa dikatakan terkendali jikapositivity ratemaksimal 5 persen Menurut data Satgas,positivity rateCovid-19 di Indonesia sempat mencapai 16,69 persen pada September Ketua Bidang Data dan Teknologi Informasi Satuan Tugas PenangananCovid-19Dewi Nur Aisyahmengatakan angkapositivity rateCovid-19 di Indonesia mengalami penurunan sejak Oktober hingga November 2020 Kendati mengalami penurunan, dia mengatakan tingkatpositivity rateCovid-19 di Tanah Air masih terbilang tinggi jika dibandingkan dengan standar Organisasi Kesehatan Dunia (WHO) Baca juga:Rizieq Shihab Minta Maaf, Janji Tidak Buat Kerumunan Lagi Selama Pandemi Covid-19Positivity rateadalah perbandingan antara kasus positif Covid-19 dan jumlah sampel yang diperiksa dengan dengan metode swab test Baca juga:Luhut: Insya Allah Pasokan Vaksin Covid-19 Siap DesemberTarget pemeriksaan WHO adalah tiap 1 juta penduduk harus diperiksa 1 000 orang per pekan 000 orang per minggu \"Pekan terakhir November kemarin kita sudah mampu menembus angka 90 persen dari target WHO \"Meski sudah terjadi tren menurun di Oktober dan November, tapi tetap masih di atas standar WHO \"Kemudian turun di angka 14, 26 persen pada Oktober, dan November turun 13,55 persen,\" ujar Dewi dalam konferensi pers daring, Rabu (2/12/2020)  Standar WHO kalau kita bisa mengendalikan, targetnya adalah 5 persen dari seluruh orang diperiksa,\" kata Dewi  Maka, dengan asumsi jumlah penduduk 267 juta jiwa, Indonesia semestinya harus melakukan pemeriksaan terhadap 267  Jadi kalau kita lihat progress berjalan cukup baik,\" tuturnya '"
      ]
     },
     "execution_count": 23,
     "metadata": {},
     "output_type": "execute_result"
    }
   ],
   "source": [
    "rangkuman4 = []\n",
    "for i in range(len(hasil)):\n",
    "    persen = round(len(hasil[i]))\n",
    "    #print((persen))\n",
    "    temp = []\n",
    "    for j in range(persen):\n",
    "        temp.append(hasil[i][j])\n",
    "    \n",
    "    x = \" \".join(w for w in temp)\n",
    "    rangkuman4.append(x)\n",
    "rangkuman4[0]"
   ]
  },
  {
   "cell_type": "code",
   "execution_count": 15,
   "metadata": {},
   "outputs": [
    {
     "data": {
      "text/plain": [
       "['Juru Bicara Satuan Tugas Penanganan Covid-19 Wiku Adisasmito mengingatkan masyarakat tak mendiskriminasi pasien Covid-19 yang ada di lingkungan mereka',\n",
       " 'Menurut Wiku, terinfeksi virus corona bukanlah sebuah aib',\n",
       " ' Dukungan kepada pasien justru sangat dibutuhkan untuk membantu proses penyembuhan',\n",
       " '\"Jangan ada sikap diskriminatif kepada keluarga atau kerabat yang didapati positif Covid-19, positif Covid bukanlah aib,\" kata Wiku dalam konferensi pers yang ditayangkan YouTube Sekretariat Presiden, Selasa (12AQzAZ1/12/2020)',\n",
       " '\"Sebaliknya, dukungan kepada mereka yang menderita Covid-19 dapat membantu proses penyembuhan mereka,\" tuturnya',\n",
       " 'Baca juga:Sepanjang Rumah Sakit Declare, Kemenkes: Biaya Perawatan Pasien Covid-19 Ditanggung NegaraDalam kesempatan yang sama, Wiku juga meminta masyarakat mendukung upayatracingyang tengah digenjot pemerintah',\n",
       " 'Tracingmerupakan penelusuran kontak terdekat pasien Covid-19',\n",
       " 'Upayatracing, kata Wiku, sama pentingnya dengantestingdantreatment',\n",
       " ' Melaluitracing, tenaga kesehatan akan melakukan pelacakan sehingga kontak terdekat pasien Covid-19 dapat ditemukan dan segera dilakukantesting',\n",
       " 'Jika hasilswab testmenunjukkan seseorang positif Covid-19, maka orang tersebut akan mendapattreatmentatau perawatan sehingga dapat segera sembuh',\n",
       " 'Wiku menyebut, semakin cepattracingdilakukan, kesempatan untuk sembuh dari infeksi virus corona juga akan semakin besar',\n",
       " 'Baca juga:Pemkot Bekasi: Mayoritas Pasien Covid-19 yang Meninggal Berusia di Atas 50 Tahun dan Punya Komorbid\"Oleh karena itu, saya meminta siapapun Anda, baik masyarakat biasa maupun tokoh masyarakat, tokoh agama, tokoh daerah, pejabat, agar sepenuhnya mendukung upaya tracing yang dilakukan oleh tenaga kesehatan,\" ujar Wiku',\n",
       " '\"Tunjukkan sikap kooperatif dan terbuka saat wawancara dilakukan, sehingga petugas dapat memetakan kontak terdekat dengan baik,\" tuturnya',\n",
       " 'Wiku juga meminta masyarakat untuk tak menghalang-halangi upaya petugas dalam melakukan tes Covid-19',\n",
       " ' Ia mengingatkan, ada sanksi bagi mereka yang menghalangi petugas',\n",
       " 'Menurut Wiku, kerja sama dari seluruh pihak menjadi kunci dalam mengendalikan pandemi',\n",
       " '\"Ingat, upaya penanganan Covid-19 berjalan dengan baik apabila seluruh pihak dapat saling mendukung,\" katanya',\n",
       " '']"
      ]
     },
     "execution_count": 15,
     "metadata": {},
     "output_type": "execute_result"
    }
   ],
   "source": [
    "sendec[1]"
   ]
  },
  {
   "cell_type": "code",
   "execution_count": 16,
   "metadata": {},
   "outputs": [],
   "source": [
    "from rouge_score import rouge_scorer"
   ]
  },
  {
   "cell_type": "code",
   "execution_count": 17,
   "metadata": {},
   "outputs": [
    {
     "name": "stdout",
     "output_type": "stream",
     "text": [
      "    precision    recall  fmeasure\n",
      "0    0.406977  0.132576  0.200000\n",
      "1    0.666667  0.118056  0.200590\n",
      "2    0.735849  0.289963  0.416000\n",
      "3    0.581395  0.234742  0.334448\n",
      "4    0.645161  0.221729  0.330033\n",
      "..        ...       ...       ...\n",
      "95   0.726027  0.218107  0.335443\n",
      "96   0.569231  0.256944  0.354067\n",
      "97   0.650000  0.178082  0.279570\n",
      "98   0.746479  0.256039  0.381295\n",
      "99   0.860000  0.191964  0.313869\n",
      "\n",
      "[100 rows x 3 columns]\n",
      "precision    0.614510\n",
      "recall       0.192948\n",
      "fmeasure     0.291641\n",
      "dtype: float64\n"
     ]
    }
   ],
   "source": [
    "rougeL1=[]\n",
    "for i in range(len(rangkuman1)):\n",
    "    scorer = rouge_scorer.RougeScorer(['rougeL'], use_stemmer=True)\n",
    "    scores = scorer.score(data[\"Data\"][i], rangkuman1[i])\n",
    "    rougeL1.append(scores[\"rougeL\"])\n",
    "hasilrouge1 = pd.DataFrame(rougeL1)\n",
    "print(hasilrouge1)\n",
    "print(hasilrouge1.mean())"
   ]
  },
  {
   "cell_type": "code",
   "execution_count": 18,
   "metadata": {},
   "outputs": [
    {
     "name": "stdout",
     "output_type": "stream",
     "text": [
      "    precision    recall  fmeasure\n",
      "0    0.564516  0.132576  0.214724\n",
      "1    0.790698  0.118056  0.205438\n",
      "2    0.658537  0.200743  0.307692\n",
      "3    0.689655  0.187793  0.295203\n",
      "4    0.793103  0.203991  0.324515\n",
      "..        ...       ...       ...\n",
      "95   0.812500  0.106996  0.189091\n",
      "96   0.616667  0.256944  0.362745\n",
      "97   0.650000  0.178082  0.279570\n",
      "98   0.704918  0.207729  0.320896\n",
      "99   1.000000  0.191964  0.322097\n",
      "\n",
      "[100 rows x 3 columns]\n",
      "precision    0.660944\n",
      "recall       0.169268\n",
      "fmeasure     0.266947\n",
      "dtype: float64\n"
     ]
    }
   ],
   "source": [
    "rougeL2=[]\n",
    "for i in range(len(rangkuman2)):\n",
    "    scorer = rouge_scorer.RougeScorer(['rougeL'], use_stemmer=True)\n",
    "    scores = scorer.score(data[\"Data\"][i], rangkuman2[i])\n",
    "    rougeL2.append(scores[\"rougeL\"])\n",
    "hasilrouge2 = pd.DataFrame(rougeL2)\n",
    "print(hasilrouge2)\n",
    "print(hasilrouge2.mean())"
   ]
  },
  {
   "cell_type": "code",
   "execution_count": 19,
   "metadata": {},
   "outputs": [
    {
     "name": "stdout",
     "output_type": "stream",
     "text": [
      "    precision    recall  fmeasure\n",
      "0    0.744681  0.132576  0.225080\n",
      "1    0.790698  0.118056  0.205438\n",
      "2    0.550000  0.122677  0.200608\n",
      "3    0.860465  0.173709  0.289062\n",
      "4    0.760000  0.168514  0.275862\n",
      "..        ...       ...       ...\n",
      "95   0.812500  0.106996  0.189091\n",
      "96   0.621622  0.239583  0.345865\n",
      "97   0.650000  0.178082  0.279570\n",
      "98   1.000000  0.178744  0.303279\n",
      "99   1.000000  0.093750  0.171429\n",
      "\n",
      "[100 rows x 3 columns]\n",
      "precision    0.701970\n",
      "recall       0.143046\n",
      "fmeasure     0.234784\n",
      "dtype: float64\n"
     ]
    }
   ],
   "source": [
    "rougeL3=[]\n",
    "for i in range(len(rangkuman1)):\n",
    "    scorer = rouge_scorer.RougeScorer(['rougeL'], use_stemmer=True)\n",
    "    scores = scorer.score(data[\"Data\"][i], rangkuman3[i])\n",
    "    rougeL3.append(scores[\"rougeL\"])\n",
    "hasilrouge3 = pd.DataFrame(rougeL3)\n",
    "print(hasilrouge3)\n",
    "print(hasilrouge3.mean())"
   ]
  },
  {
   "cell_type": "code",
   "execution_count": 24,
   "metadata": {},
   "outputs": [
    {
     "name": "stdout",
     "output_type": "stream",
     "text": [
      "    precision    recall  fmeasure\n",
      "0    0.446970  0.446970  0.446970\n",
      "1    0.475694  0.475694  0.475694\n",
      "2    0.397770  0.397770  0.397770\n",
      "3    0.530516  0.530516  0.530516\n",
      "4    0.339246  0.339246  0.339246\n",
      "..        ...       ...       ...\n",
      "95   0.493827  0.493827  0.493827\n",
      "96   0.479167  0.479167  0.479167\n",
      "97   0.547945  0.547945  0.547945\n",
      "98   0.429952  0.429952  0.429952\n",
      "99   0.531250  0.531250  0.531250\n",
      "\n",
      "[100 rows x 3 columns]\n",
      "precision    0.409765\n",
      "recall       0.409765\n",
      "fmeasure     0.409765\n",
      "dtype: float64\n"
     ]
    }
   ],
   "source": [
    "rougeL4=[]\n",
    "for i in range(len(rangkuman1)):\n",
    "    scorer = rouge_scorer.RougeScorer(['rougeL'], use_stemmer=True)\n",
    "    scores = scorer.score(data[\"Data\"][i], rangkuman4[i])\n",
    "    rougeL4.append(scores[\"rougeL\"])\n",
    "hasilrouge4 = pd.DataFrame(rougeL4)\n",
    "print(hasilrouge4)\n",
    "print(hasilrouge4.mean())"
   ]
  },
  {
   "cell_type": "code",
   "execution_count": 26,
   "metadata": {},
   "outputs": [],
   "source": [
    "arr1 = hasilrouge1.mean()\n",
    "arr2 = hasilrouge2.mean()\n",
    "arr3 = hasilrouge3.mean()\n",
    "arr4 = hasilrouge4.mean()"
   ]
  },
  {
   "cell_type": "code",
   "execution_count": 27,
   "metadata": {},
   "outputs": [],
   "source": [
    "allarr = pd.DataFrame({'30%':arr1, '25%':arr2, '20%':arr3, '0':arr4,})"
   ]
  },
  {
   "cell_type": "code",
   "execution_count": 28,
   "metadata": {},
   "outputs": [
    {
     "data": {
      "text/html": [
       "<div>\n",
       "<style scoped>\n",
       "    .dataframe tbody tr th:only-of-type {\n",
       "        vertical-align: middle;\n",
       "    }\n",
       "\n",
       "    .dataframe tbody tr th {\n",
       "        vertical-align: top;\n",
       "    }\n",
       "\n",
       "    .dataframe thead th {\n",
       "        text-align: right;\n",
       "    }\n",
       "</style>\n",
       "<table border=\"1\" class=\"dataframe\">\n",
       "  <thead>\n",
       "    <tr style=\"text-align: right;\">\n",
       "      <th></th>\n",
       "      <th>30%</th>\n",
       "      <th>25%</th>\n",
       "      <th>20%</th>\n",
       "      <th>0</th>\n",
       "    </tr>\n",
       "  </thead>\n",
       "  <tbody>\n",
       "    <tr>\n",
       "      <th>precision</th>\n",
       "      <td>0.614510</td>\n",
       "      <td>0.660944</td>\n",
       "      <td>0.701970</td>\n",
       "      <td>0.409765</td>\n",
       "    </tr>\n",
       "    <tr>\n",
       "      <th>recall</th>\n",
       "      <td>0.192948</td>\n",
       "      <td>0.169268</td>\n",
       "      <td>0.143046</td>\n",
       "      <td>0.409765</td>\n",
       "    </tr>\n",
       "    <tr>\n",
       "      <th>fmeasure</th>\n",
       "      <td>0.291641</td>\n",
       "      <td>0.266947</td>\n",
       "      <td>0.234784</td>\n",
       "      <td>0.409765</td>\n",
       "    </tr>\n",
       "  </tbody>\n",
       "</table>\n",
       "</div>"
      ],
      "text/plain": [
       "                30%       25%       20%         0\n",
       "precision  0.614510  0.660944  0.701970  0.409765\n",
       "recall     0.192948  0.169268  0.143046  0.409765\n",
       "fmeasure   0.291641  0.266947  0.234784  0.409765"
      ]
     },
     "execution_count": 28,
     "metadata": {},
     "output_type": "execute_result"
    }
   ],
   "source": [
    "allarr"
   ]
  },
  {
   "cell_type": "code",
   "execution_count": null,
   "metadata": {},
   "outputs": [],
   "source": []
  },
  {
   "cell_type": "code",
   "execution_count": null,
   "metadata": {},
   "outputs": [],
   "source": []
  }
 ],
 "metadata": {
  "kernelspec": {
   "display_name": "Python 3",
   "language": "python",
   "name": "python3"
  },
  "language_info": {
   "codemirror_mode": {
    "name": "ipython",
    "version": 3
   },
   "file_extension": ".py",
   "mimetype": "text/x-python",
   "name": "python",
   "nbconvert_exporter": "python",
   "pygments_lexer": "ipython3",
   "version": "3.8.5"
  }
 },
 "nbformat": 4,
 "nbformat_minor": 4
}
